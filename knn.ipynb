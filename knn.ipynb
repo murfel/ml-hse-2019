{
 "cells": [
  {
   "cell_type": "code",
   "execution_count": 20,
   "metadata": {},
   "outputs": [],
   "source": [
    "import csv\n",
    "import random\n",
    "import numpy as np"
   ]
  },
  {
   "cell_type": "code",
   "execution_count": 26,
   "metadata": {},
   "outputs": [],
   "source": [
    "def get_knn_sorted(data, k, row):\n",
    "    dists = [np.linalg.norm(np.array(data_row[1:]) - np.array(row[1:])) for data_row in data]\n",
    "    dists = list(enumerate(dists))\n",
    "    dists.sort(key=lambda x: x[1])\n",
    "    dists = dists[:k]\n",
    "    perm = list(map(lambda x: x[0], dists))\n",
    "    return list(np.array(data)[perm])\n",
    "\n",
    "\n",
    "def most_common(lst):\n",
    "    items = list(set(lst))\n",
    "    counts = [lst.count(item) for item in items]\n",
    "    counts = list(enumerate(counts))\n",
    "    counts.sort(key=lambda x: x[1], reverse=True)\n",
    "    counts = list(filter(lambda x: x[1] == counts[0][1], counts))\n",
    "    return items[random.choice(counts)[0]]\n",
    "\n",
    "\n",
    "def predict_label(data, k, row):\n",
    "    knn_sorted = get_knn_sorted(data, k, row)\n",
    "    labels = list(map(lambda x: x[0], knn_sorted))\n",
    "    return [most_common(labels[:k1]) for k1 in range(1, k + 1)]\n",
    "\n",
    "\n",
    "def loo(data, k):\n",
    "    cnt = [0] * k\n",
    "    for i, row in enumerate(data):\n",
    "        predicts = [x != row[0] for x in predict_label(data[:i] + data[i + 1:], k, row)]\n",
    "        cnt = [cnt[i] + predicts[i] for i in range(k)]\n",
    "    return [x / len(data) for x in cnt]\n",
    "\n",
    "def load_data(dataset_path):\n",
    "    reader = csv.reader(open(dataset_path))\n",
    "    reader.__next__()  # skip the header\n",
    "    data = []\n",
    "    for row in reader:\n",
    "        data.append([row[0]] + list(map(float, row[1:])))\n",
    "    return data\n",
    "\n",
    "def run_and_save(data, answer_path):\n",
    "    loo_errors = loo(data, 10)\n",
    "    with open(answer_path, 'w') as f:\n",
    "        f.write('k\\tx\\n')\n",
    "        for k, x in enumerate(loo_errors):\n",
    "            f.write('{}\\t{}\\n'.format(k + 1, x))\n",
    "            \n",
    "def min_max_scale_data(data):\n",
    "    for col_id in range(1, len(data[0])):\n",
    "        values = [row[col_id] for row in data]\n",
    "        min_value = min(values)\n",
    "        max_value = max(values)\n",
    "        interval_len = max_value - min_value\n",
    "        for row in data:\n",
    "            row[col_id] = (row[col_id] - min_value) / interval_len\n",
    "    return data\n",
    "\n",
    "def go(dataset_path, answer_path):\n",
    "    data = load_data(dataset_path)\n",
    "    data = min_max_scale_data(data)\n",
    "    run_and_save(data, answer_path)"
   ]
  },
  {
   "cell_type": "code",
   "execution_count": 28,
   "metadata": {},
   "outputs": [],
   "source": [
    "go('datasets/spam.csv', 'answers/spam_minmax_scaled.txt')"
   ]
  }
 ],
 "metadata": {
  "kernelspec": {
   "display_name": "Python 3",
   "language": "python",
   "name": "python3"
  },
  "language_info": {
   "codemirror_mode": {
    "name": "ipython",
    "version": 3
   },
   "file_extension": ".py",
   "mimetype": "text/x-python",
   "name": "python",
   "nbconvert_exporter": "python",
   "pygments_lexer": "ipython3",
   "version": "3.7.3"
  }
 },
 "nbformat": 4,
 "nbformat_minor": 2
}
