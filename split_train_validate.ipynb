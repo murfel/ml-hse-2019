{
  "cells": [
    {
      "cell_type": "code",
      "execution_count": 5,
      "outputs": [],
      "source": "import csv\nimport random\nimport os",
      "metadata": {
        "pycharm": {
          "metadata": false,
          "name": "#%%\n",
          "is_executing": false
        }
      }
    },
    {
      "cell_type": "code",
      "execution_count": 15,
      "metadata": {
        "collapsed": true,
        "pycharm": {
          "is_executing": false
        }
      },
      "outputs": [],
      "source": "def load_dataset(dataset_path):\n    reader \u003d csv.reader(open(dataset_path))\n    reader.__next__()  # skip the header\n    data \u003d []\n    for row in reader:\n        data.append([row[0]] + list(map(float, row[1:])))\n    return data\n        \ndef split_train_validate(data, train_percentage\u003d0.8):\n    train_len \u003d int(len(data) * 0.8)\n    train_ids \u003d random.sample(range(len(data)), train_len)\n    train \u003d []\n    for id in sorted(train_ids, reverse\u003dTrue):\n        train.append(data[id])\n        data.pop(id)\n    return train, data\n\ndef save(data, filepath):\n    with open(filepath, \u0027w\u0027) as f:\n        for row in data:\n            f.write(\u0027 \u0027.join(list(map(str, row))))\n            f.write(\u0027\\n\u0027)\n\ndef go(dataset_path):\n    data \u003d load_dataset(dataset_path)\n    train, validate \u003d split_train_validate(data)\n    dataset_path_prefix \u003d os.path.splitext(dataset_path)[0]\n    save(train, dataset_path_prefix + \u0027_train\u0027)\n    save(validate, dataset_path_prefix + \u0027_validate\u0027)"
    },
    {
      "cell_type": "code",
      "execution_count": 16,
      "outputs": [],
      "source": "go(\u0027datasets/spam.csv\u0027)\ngo(\u0027datasets/cancer.csv\u0027)",
      "metadata": {
        "pycharm": {
          "metadata": false,
          "name": "#%%\n",
          "is_executing": false
        }
      }
    }
  ],
  "metadata": {
    "language_info": {
      "codemirror_mode": {
        "name": "ipython",
        "version": 2
      },
      "file_extension": ".py",
      "mimetype": "text/x-python",
      "name": "python",
      "nbconvert_exporter": "python",
      "pygments_lexer": "ipython2",
      "version": "2.7.6"
    },
    "kernelspec": {
      "name": "python3",
      "language": "python",
      "display_name": "Python 3"
    },
    "stem_cell": {
      "cell_type": "raw",
      "source": "",
      "metadata": {
        "pycharm": {
          "metadata": false
        }
      }
    }
  },
  "nbformat": 4,
  "nbformat_minor": 0
}