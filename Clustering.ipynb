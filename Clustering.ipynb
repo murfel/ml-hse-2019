{
  "cells": [
    {
      "cell_type": "code",
      "execution_count": 3,
      "metadata": {
        "pycharm": {
          "is_executing": false
        }
      },
      "outputs": [],
      "source": "import csv\nimport random\nimport numpy as np\nimport pandas as pd\nimport matplotlib.pyplot as plt"
    },
    {
      "cell_type": "markdown",
      "metadata": {
        "pycharm": {}
      },
      "source": [
        "# Clustering\n",
        "\n",
        "Dataset is blobs.csv.\n",
        "\n",
        "The results should be presented as drawn clusters.\n",
        "\n",
        "3. (2) Implement the k-means algorithm and cluster data point into [2,3,4,5] clusters."
      ]
    },
    {
      "cell_type": "code",
      "execution_count": 60,
      "metadata": {
        "pycharm": {
          "is_executing": false
        }
      },
      "outputs": [],
      "source": "def load_data(dataset_path):\n    reader \u003d csv.reader(open(dataset_path))\n    reader.__next__()  # skip the header\n    data \u003d []\n    for row in reader:\n        data.append(list(map(float, row)))\n    return data\n\ndef dist(row1, row2):\n    return np.linalg.norm(np.array(row1) - np.array(row2))\n\ndef kmeans(data, k):\n    row_id_to_cluster_id \u003d [None for _ in data]\n    clusters \u003d random.sample(data, k)\n    for _ in range(100):\n        for row_id, row in enumerate(data):\n            cluster_id \u003d min(range(k),\n                    key\u003dlambda cluster_id:\n                    dist(row, clusters[cluster_id]))\n            row_id_to_cluster_id[row_id] \u003d cluster_id\n        for cluster_id in range(k):\n            cluster_row_ids \u003d list(filter(\n                lambda row_id: row_id_to_cluster_id[row_id] \u003d\u003d cluster_id,\n                range(len(data))))\n            cluster_rows \u003d [data[id] for id in cluster_row_ids]\n            sum_row \u003d [0 for _ in range(len(data[0]))]\n            for row in cluster_rows:\n                for col_id, cell in enumerate(row):\n                    sum_row[col_id] +\u003d cell\n            num_clusters \u003d len(cluster_rows)\n            for row in cluster_rows:\n                for col_id, _ in enumerate(row):\n                    row[col_id] /\u003d num_clusters\n    return row_id_to_cluster_id\n                    \ndef go(dataset_path, answer_path, ks\u003d[2,3,4,5]):\n    data \u003d load_data(dataset_path)\n    for k in ks:\n        print(k)\n        row_id_to_cluster_id \u003d kmeans(data, k)\n        with open(answer_path + str(k), \u0027w\u0027) as f:\n            f.write(\u0027 \u0027.join(list(map(str, row_id_to_cluster_id))))\n\nDATASET_PATH \u003d \u0027datasets/blobs.csv\u0027\nANSWER_PATH_PREFIX \u003d \u0027answers/blobs_kmeans_\u0027"
    },
    {
      "cell_type": "code",
      "execution_count": 61,
      "metadata": {
        "pycharm": {
          "is_executing": false
        }
      },
      "outputs": [
        {
          "name": "stdout",
          "text": [
            "2\n",
            "3\n",
            "4\n",
            "5\n",
            "done\n"
          ],
          "output_type": "stream"
        }
      ],
      "source": "go(DATASET_PATH, \u0027answers/blobs_kmeans_\u0027)\nprint(\u0027done\u0027)"
    },
    {
      "cell_type": "code",
      "execution_count": 62,
      "outputs": [],
      "source": "def load_cluster_ids(answer_path):\n    with open(answer_path) as f:\n        line \u003d f.readline()\n        return list(map(int, line.split()))\n\ndef plot_clusters(data, cluster_ids):\n    colors \u003d \u0027rbgmc\u0027\n    for row, cluster_id in zip(data, cluster_ids):\n        plt.plot(*row, colors[cluster_id] + \u0027o\u0027)\n    plt.show()",
      "metadata": {
        "pycharm": {
          "metadata": false,
          "name": "#%%\n",
          "is_executing": false
        }
      }
    },
    {
      "cell_type": "code",
      "execution_count": 65,
      "outputs": [
        {
          "data": {
            "text/plain": "\u003cFigure size 432x288 with 1 Axes\u003e",
            "image/png": "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\u003d\n"
          },
          "metadata": {
            "needs_background": "light"
          },
          "output_type": "display_data"
        }
      ],
      "source": "data \u003d load_data(DATASET_PATH)\ndata \u003d random.sample(data, 10)\ncluster_ids \u003d load_cluster_ids(ANSWER_PATH_PREFIX + \u00272\u0027)\nplot_clusters(data, cluster_ids)",
      "metadata": {
        "pycharm": {
          "metadata": false,
          "name": "#%%\n",
          "is_executing": false
        }
      }
    }
  ],
  "metadata": {
    "kernelspec": {
      "display_name": "Python 3",
      "language": "python",
      "name": "python3"
    },
    "language_info": {
      "codemirror_mode": {
        "name": "ipython",
        "version": 3
      },
      "file_extension": ".py",
      "mimetype": "text/x-python",
      "name": "python",
      "nbconvert_exporter": "python",
      "pygments_lexer": "ipython3",
      "version": "3.7.3"
    }
  },
  "nbformat": 4,
  "nbformat_minor": 2
}