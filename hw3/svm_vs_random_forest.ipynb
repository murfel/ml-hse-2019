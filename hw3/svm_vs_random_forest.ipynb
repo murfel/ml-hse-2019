{
 "cells": [
  {
   "cell_type": "code",
   "execution_count": 7,
   "metadata": {},
   "outputs": [],
   "source": [
    "import random\n",
    "import numpy as np\n",
    "import pandas as pd\n",
    "import sklearn.model_selection\n",
    "import sklearn.linear_model\n",
    "import sklearn.ensemble\n",
    "from sklearn import svm\n",
    "import matplotlib.pyplot as plt"
   ]
  },
  {
   "cell_type": "code",
   "execution_count": 3,
   "metadata": {},
   "outputs": [],
   "source": [
    "DATASET = '../datasets/cancer.csv'\n",
    "data = pd.read_csv(DATASET)\n",
    "train_data, test_data = sklearn.model_selection.train_test_split(data, train_size=0.8, test_size=0.2)"
   ]
  },
  {
   "cell_type": "code",
   "execution_count": 12,
   "metadata": {},
   "outputs": [
    {
     "name": "stdout",
     "output_type": "stream",
     "text": [
      "0.9649122807017544\n",
      "CPU times: user 580 ms, sys: 2.36 ms, total: 582 ms\n",
      "Wall time: 581 ms\n"
     ]
    }
   ],
   "source": [
    "%%time\n",
    "clf = svm.SVC(kernel='linear', gamma='scale', C=0.5)\n",
    "clf.fit(train_data.drop('label', axis=1), train_data['label'])\n",
    "score = clf.score(test_data.drop('label', axis=1), test_data['label'])\n",
    "print(score)"
   ]
  },
  {
   "cell_type": "code",
   "execution_count": 13,
   "metadata": {},
   "outputs": [
    {
     "name": "stdout",
     "output_type": "stream",
     "text": [
      "0.9736842105263158\n",
      "CPU times: user 127 ms, sys: 2.09 ms, total: 129 ms\n",
      "Wall time: 127 ms\n"
     ]
    }
   ],
   "source": [
    "%%time\n",
    "clf2 = sklearn.ensemble.RandomForestClassifier(n_estimators=100)\n",
    "clf2.fit(train_data.drop('label', axis=1), train_data['label'])\n",
    "score = clf2.score(test_data.drop('label', axis=1), test_data['label'])\n",
    "print(score)"
   ]
  },
  {
   "cell_type": "code",
   "execution_count": 16,
   "metadata": {},
   "outputs": [],
   "source": [
    "DATASET = '../datasets/spam.csv'\n",
    "data = pd.read_csv(DATASET)\n",
    "train_data, test_data = sklearn.model_selection.train_test_split(data, train_size=0.8, test_size=0.2)"
   ]
  },
  {
   "cell_type": "code",
   "execution_count": 18,
   "metadata": {},
   "outputs": [
    {
     "name": "stdout",
     "output_type": "stream",
     "text": [
      "0.9109663409337676\n",
      "CPU times: user 20min 40s, sys: 2.22 s, total: 20min 43s\n",
      "Wall time: 20min 44s\n"
     ]
    }
   ],
   "source": [
    "%%time\n",
    "clf = svm.SVC(kernel='poly', degree=2, gamma='auto')\n",
    "clf.fit(train_data.drop('label', axis=1), train_data['label'])\n",
    "score = clf.score(test_data.drop('label', axis=1), test_data['label'])\n",
    "print(score)"
   ]
  },
  {
   "cell_type": "code",
   "execution_count": 19,
   "metadata": {},
   "outputs": [
    {
     "name": "stdout",
     "output_type": "stream",
     "text": [
      "0.9467969598262758\n",
      "CPU times: user 455 ms, sys: 4.84 ms, total: 459 ms\n",
      "Wall time: 459 ms\n"
     ]
    }
   ],
   "source": [
    "%%time\n",
    "clf2 = sklearn.ensemble.RandomForestClassifier(n_estimators=100)\n",
    "clf2.fit(train_data.drop('label', axis=1), train_data['label'])\n",
    "score = clf2.score(test_data.drop('label', axis=1), test_data['label'])\n",
    "print(score)"
   ]
  },
  {
   "cell_type": "markdown",
   "metadata": {},
   "source": [
    "# Вывод\n",
    "\n",
    "RandomForestClassifier работает в 4 раза быстрее на маленьком датасете и в 40 раз быстрее на большом."
   ]
  }
 ],
 "metadata": {
  "kernelspec": {
   "display_name": "Python 3",
   "language": "python",
   "name": "python3"
  },
  "language_info": {
   "codemirror_mode": {
    "name": "ipython",
    "version": 3
   },
   "file_extension": ".py",
   "mimetype": "text/x-python",
   "name": "python",
   "nbconvert_exporter": "python",
   "pygments_lexer": "ipython3",
   "version": "3.7.3"
  }
 },
 "nbformat": 4,
 "nbformat_minor": 2
}
