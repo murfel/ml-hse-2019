{
 "cells": [
  {
   "cell_type": "code",
   "execution_count": 8,
   "metadata": {},
   "outputs": [],
   "source": [
    "import random\n",
    "import math\n",
    "import pandas as pd\n",
    "import sklearn.model_selection\n",
    "import sklearn.linear_model\n",
    "import sklearn.ensemble\n",
    "import sklearn.metrics\n",
    "from sklearn import svm\n",
    "import matplotlib.pyplot as plt"
   ]
  },
  {
   "cell_type": "code",
   "execution_count": 34,
   "metadata": {},
   "outputs": [],
   "source": [
    "DATASET = '../datasets/spam.csv'\n",
    "data = pd.read_csv(DATASET)"
   ]
  },
  {
   "cell_type": "code",
   "execution_count": 32,
   "metadata": {},
   "outputs": [],
   "source": [
    "def calc_joint_log_likelihood(data):\n",
    "    means = [[], []]\n",
    "    variances = [[], []]\n",
    "    for number in [0,1]:\n",
    "        for feature in data.drop('label', axis=1):\n",
    "            feature_values = data[data['label'] == number][feature]\n",
    "            means[number].append(feature_values.mean())\n",
    "            variances[number].append(feature_values.var())\n",
    "    \n",
    "    def formula(x, m, v):\n",
    "        return - 1 / 2 * math.log(2 * math.pi * v) - (x - m) ** 2 / (2 * v)\n",
    "    \n",
    "    ans = [[], []]\n",
    "    for number in [0, 1]:\n",
    "        for index, row in data.iterrows():\n",
    "            ans[number].append(0)\n",
    "            for value_index, value in enumerate(row.drop('label')):\n",
    "                ans[number][index] += formula(value,\n",
    "                                              means[number][value_index],\n",
    "                                              variances[number][value_index])\n",
    "    return ans\n",
    "\n",
    "def plot(jll, label):\n",
    "    fpr, tpr, _ = sklearn.metrics.roc_curve(\n",
    "        label,\n",
    "        [jll[1][i] - jll[0][i] for i in range(len(jll[0]))])\n",
    "    plt.plot(fpr, tpr, 'b-')\n",
    "    plt.show()"
   ]
  },
  {
   "cell_type": "code",
   "execution_count": 33,
   "metadata": {},
   "outputs": [
    {
     "data": {
      "image/png": "[encoded data removed]",
      "text/plain": [
       "<Figure size 432x288 with 1 Axes>"
      ]
     },
     "metadata": {
      "needs_background": "light"
     },
     "output_type": "display_data"
    }
   ],
   "source": [
    "jll = calc_joint_log_likelihood(data)\n",
    "plot(jll, data['label'])"
   ]
  },
  {
   "cell_type": "code",
   "execution_count": 35,
   "metadata": {},
   "outputs": [],
   "source": [
    "DATASET = '../datasets/cancer.csv'\n",
    "data = pd.read_csv(DATASET)\n",
    "data['label'] = [1 if v == 'M' else 0 for v in data['label']]"
   ]
  },
  {
   "cell_type": "code",
   "execution_count": 36,
   "metadata": {},
   "outputs": [
    {
     "data": {
      "image/png": "[encoded data removed]",
      "text/plain": [
       "<Figure size 432x288 with 1 Axes>"
      ]
     },
     "metadata": {
      "needs_background": "light"
     },
     "output_type": "display_data"
    }
   ],
   "source": [
    "jll = calc_joint_log_likelihood(data)\n",
    "plot(jll, data['label'])"
   ]
  }
 ],
 "metadata": {
  "kernelspec": {
   "display_name": "Python 3",
   "language": "python",
   "name": "python3"
  },
  "language_info": {
   "codemirror_mode": {
    "name": "ipython",
    "version": 3
   },
   "file_extension": ".py",
   "mimetype": "text/x-python",
   "name": "python",
   "nbconvert_exporter": "python",
   "pygments_lexer": "ipython3",
   "version": "3.7.3"
  }
 },
 "nbformat": 4,
 "nbformat_minor": 2
}
