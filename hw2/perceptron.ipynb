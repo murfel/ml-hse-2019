{
 "cells": [
  {
   "cell_type": "code",
   "execution_count": 214,
   "metadata": {
    "pycharm": {
     "is_executing": false,
     "metadata": false,
     "name": "#%%\n"
    }
   },
   "outputs": [],
   "source": [
    "import random\n",
    "import numpy as np\n",
    "import pandas as pd\n",
    "import matplotlib.pyplot as plt\n",
    "import sklearn.model_selection"
   ]
  },
  {
   "cell_type": "code",
   "execution_count": 247,
   "metadata": {
    "pycharm": {
     "is_executing": false
    }
   },
   "outputs": [],
   "source": [
    "DATASET = '../datasets/blobs2.csv'\n",
    "data = pd.read_csv(DATASET)\n",
    "train_data, test_data = sklearn.model_selection.train_test_split(data, train_size=0.8, test_size=0.2)"
   ]
  },
  {
   "cell_type": "markdown",
   "metadata": {},
   "source": [
    "### Color Scheme\n",
    "https://coolors.co/f7c0c2-ef767a-456990-99adc2-eeb868"
   ]
  },
  {
   "cell_type": "markdown",
   "metadata": {},
   "source": [
    "# General functions"
   ]
  },
  {
   "cell_type": "code",
   "execution_count": 248,
   "metadata": {},
   "outputs": [],
   "source": [
    "def gen_polynomials_of_degree(y0, y1, degree):\n",
    "    return [y0 ** (degree - i) * y1 ** i for i in range(degree + 1)]\n",
    "    \n",
    "def gen_polynomials_up_to_degree(y0, y1, degree):\n",
    "    polys = []\n",
    "    for d in range(degree + 1):\n",
    "        polys.extend(gen_polynomials_of_degree(y0, y1, d))\n",
    "    return polys\n",
    "\n",
    "def augment_data(data):\n",
    "    try:\n",
    "        data.insert(2, 'xy1', [row[0] ** 2 * row[1] ** 0 for index, row in data.iterrows()])\n",
    "        data.insert(3, 'xy2', [row[0] ** 1 * row[1] ** 1 for index, row in data.iterrows()])\n",
    "        data.insert(4, 'xy3', [row[0] ** 0 * row[1] ** 2 for index, row in data.iterrows()])\n",
    "\n",
    "        data.insert(5, 'xy4', [row[0] ** 3 * row[1] ** 0 for index, row in data.iterrows()])\n",
    "        data.insert(6, 'xy5', [row[0] ** 2 * row[1] ** 1 for index, row in data.iterrows()])\n",
    "        data.insert(7, 'xy6', [row[0] ** 1 * row[1] ** 2 for index, row in data.iterrows()])\n",
    "        data.insert(8, 'xy7', [row[0] ** 0 * row[1] ** 3 for index, row in data.iterrows()])\n",
    "\n",
    "        data.insert(9,  'xy8', [row[0] ** 4 * row[1] ** 0 for index, row in data.iterrows()])\n",
    "        data.insert(10, 'xy9', [row[0] ** 3 * row[1] ** 1 for index, row in data.iterrows()])\n",
    "        data.insert(11, 'xy10', [row[0] ** 2 * row[1] ** 2 for index, row in data.iterrows()])\n",
    "        data.insert(12, 'xy11', [row[0] ** 1 * row[1] ** 3 for index, row in data.iterrows()])\n",
    "        data.insert(13, 'xy12', [row[0] ** 0 * row[1] ** 4 for index, row in data.iterrows()])\n",
    "    except ValueError:\n",
    "        print('already augmented, skipping')\n",
    "    return data\n",
    "\n",
    "def calc_accuracy(w, x_i_generator):\n",
    "    tp_tn = 0\n",
    "    def calc_h(x_row):\n",
    "        val = np.matmul(w, np.transpose(x_row))\n",
    "        return -1 if val < 0 else 1\n",
    "    def to_pm(val):\n",
    "        return -1 if val == 0 else 1\n",
    "    for index, row in test_data.iterrows():\n",
    "        y0, y1 = row.values[:2]\n",
    "        x_i = np.array(x_i_generator(y0, y1))\n",
    "        y_i = to_pm(row.values[-1])\n",
    "        tp_tn += calc_h(x_i) == y_i\n",
    "    return tp_tn\n",
    "\n",
    "def perceptron(train_data, dim=3, x_i_generator=lambda y0, y1: [1, y0, y1], max_iterations=10):\n",
    "    weights = []\n",
    "    w = np.array([random.random() for _ in range(dim)])\n",
    "    weights.append(list(w))\n",
    "    def calc_h(x_row):\n",
    "        val = np.matmul(w, np.transpose(x_row))\n",
    "        return -1 if val < 0 else 1\n",
    "    def to_pm(val):\n",
    "        return -1 if val == 0 else 1\n",
    "    for _ in range(max_iterations):\n",
    "        adjusted = False\n",
    "        for index, row in train_data.iterrows():\n",
    "            y0, y1 = row.values[:2]\n",
    "            x_i = np.array(x_i_generator(y0, y1))\n",
    "            y_i = to_pm(row.values[-1])\n",
    "            if calc_h(x_i) != y_i:\n",
    "                w = list(w + x_i * y_i)\n",
    "                weights.append(w)\n",
    "                adjusted = True\n",
    "                break\n",
    "        if not adjusted:\n",
    "            break\n",
    "    return weights\n",
    "\n",
    "def draw_data_points():\n",
    "    test_data_0 = [x for _, x in test_data.iterrows() if x[-1] == 0]\n",
    "    test_data_1 = [x for _, x in test_data.iterrows() if x[-1] == 1]\n",
    "    xs0 = [x['x'] for x in test_data_0]\n",
    "    ys0 = [x['y'] for x in test_data_0]\n",
    "    xs1 = [x['x'] for x in test_data_1]\n",
    "    ys1 = [x['y'] for x in test_data_1]\n",
    "    plt.plot(xs0, ys0, 'bo')\n",
    "    plt.plot(xs1, ys1, 'ro')\n",
    "    \n",
    "def draw_best_weight(w, x_i_generator, num_points=100, markersize=4):    \n",
    "    def calc_h(x_row):\n",
    "        val = np.matmul(w, np.transpose(x_row))\n",
    "        return -1 if val < 0 else 1\n",
    "    def to_pm(val):\n",
    "        return -1 if val == 0 else 1\n",
    "    \n",
    "    ys = []\n",
    "    \n",
    "    for x in np.linspace(-2, 5, 100):\n",
    "        for y in np.linspace(-1, 7, 100):\n",
    "            ys.append([x, y])\n",
    "            \n",
    "    class0 = [y for y in ys if calc_h(x_i_generator(y[0], y[1])) == -1]\n",
    "    class1 = [y for y in ys if calc_h(x_i_generator(y[0], y[1])) == 1]\n",
    "    \n",
    "    plt.plot([y[0] for y in class0], [y[1] for y in class0], 'o', markersize=4, color='#B9B9FF')\n",
    "    plt.plot([y[0] for y in class1], [y[1] for y in class1], 'o', markersize=4, color='#FFD4D4')\n",
    "    \n",
    "    draw_data_points()\n",
    "    \n",
    "def compute_and_show(dim, x_i_generator, num_points=100, markersize=4):\n",
    "    weights = perceptron(train_data, dim, x_i_generator)\n",
    "    best_weight = max(weights, key=lambda x: calc_accuracy(x, x_i_generator))\n",
    "    draw_best_weight(best_weight, x_i_generator)"
   ]
  },
  {
   "cell_type": "code",
   "execution_count": 249,
   "metadata": {},
   "outputs": [],
   "source": [
    "train_data = augment_data(train_data)\n",
    "test_data = augment_data(test_data)"
   ]
  },
  {
   "cell_type": "code",
   "execution_count": 250,
   "metadata": {},
   "outputs": [
    {
     "data": {
      "text/html": [
       "<div>\n",
       "<style scoped>\n",
       "    .dataframe tbody tr th:only-of-type {\n",
       "        vertical-align: middle;\n",
       "    }\n",
       "\n",
       "    .dataframe tbody tr th {\n",
       "        vertical-align: top;\n",
       "    }\n",
       "\n",
       "    .dataframe thead th {\n",
       "        text-align: right;\n",
       "    }\n",
       "</style>\n",
       "<table border=\"1\" class=\"dataframe\">\n",
       "  <thead>\n",
       "    <tr style=\"text-align: right;\">\n",
       "      <th></th>\n",
       "      <th>x</th>\n",
       "      <th>y</th>\n",
       "      <th>xy1</th>\n",
       "      <th>xy2</th>\n",
       "      <th>xy3</th>\n",
       "      <th>xy4</th>\n",
       "      <th>xy5</th>\n",
       "      <th>xy6</th>\n",
       "      <th>xy7</th>\n",
       "      <th>xy8</th>\n",
       "      <th>xy9</th>\n",
       "      <th>xy10</th>\n",
       "      <th>xy11</th>\n",
       "      <th>xy12</th>\n",
       "      <th>label</th>\n",
       "    </tr>\n",
       "  </thead>\n",
       "  <tbody>\n",
       "    <tr>\n",
       "      <th>793</th>\n",
       "      <td>2.737011</td>\n",
       "      <td>-0.671889</td>\n",
       "      <td>7.491232</td>\n",
       "      <td>-1.838967</td>\n",
       "      <td>0.451434</td>\n",
       "      <td>20.503588</td>\n",
       "      <td>-5.033273</td>\n",
       "      <td>1.235581</td>\n",
       "      <td>-0.303313</td>\n",
       "      <td>56.118556</td>\n",
       "      <td>-13.776125</td>\n",
       "      <td>3.381798</td>\n",
       "      <td>-0.830172</td>\n",
       "      <td>0.203793</td>\n",
       "      <td>1</td>\n",
       "    </tr>\n",
       "    <tr>\n",
       "      <th>914</th>\n",
       "      <td>1.222023</td>\n",
       "      <td>4.654728</td>\n",
       "      <td>1.493339</td>\n",
       "      <td>5.688182</td>\n",
       "      <td>21.666488</td>\n",
       "      <td>1.824894</td>\n",
       "      <td>6.951086</td>\n",
       "      <td>26.476936</td>\n",
       "      <td>100.851600</td>\n",
       "      <td>2.230061</td>\n",
       "      <td>8.494384</td>\n",
       "      <td>32.355412</td>\n",
       "      <td>123.242925</td>\n",
       "      <td>469.436717</td>\n",
       "      <td>0</td>\n",
       "    </tr>\n",
       "    <tr>\n",
       "      <th>496</th>\n",
       "      <td>2.820314</td>\n",
       "      <td>2.429570</td>\n",
       "      <td>7.954169</td>\n",
       "      <td>6.852148</td>\n",
       "      <td>5.902808</td>\n",
       "      <td>22.433251</td>\n",
       "      <td>19.325207</td>\n",
       "      <td>16.647770</td>\n",
       "      <td>14.341283</td>\n",
       "      <td>63.268804</td>\n",
       "      <td>54.503144</td>\n",
       "      <td>46.951934</td>\n",
       "      <td>40.446916</td>\n",
       "      <td>34.843145</td>\n",
       "      <td>1</td>\n",
       "    </tr>\n",
       "    <tr>\n",
       "      <th>758</th>\n",
       "      <td>0.966796</td>\n",
       "      <td>4.313561</td>\n",
       "      <td>0.934695</td>\n",
       "      <td>4.170335</td>\n",
       "      <td>18.606812</td>\n",
       "      <td>0.903660</td>\n",
       "      <td>4.031865</td>\n",
       "      <td>17.988997</td>\n",
       "      <td>80.261625</td>\n",
       "      <td>0.873655</td>\n",
       "      <td>3.897992</td>\n",
       "      <td>17.391696</td>\n",
       "      <td>77.596643</td>\n",
       "      <td>346.213448</td>\n",
       "      <td>0</td>\n",
       "    </tr>\n",
       "    <tr>\n",
       "      <th>533</th>\n",
       "      <td>2.468008</td>\n",
       "      <td>4.190747</td>\n",
       "      <td>6.091065</td>\n",
       "      <td>10.342799</td>\n",
       "      <td>17.562362</td>\n",
       "      <td>15.032799</td>\n",
       "      <td>25.526113</td>\n",
       "      <td>43.344055</td>\n",
       "      <td>73.599418</td>\n",
       "      <td>37.101073</td>\n",
       "      <td>62.998660</td>\n",
       "      <td>106.973488</td>\n",
       "      <td>181.643975</td>\n",
       "      <td>308.436553</td>\n",
       "      <td>0</td>\n",
       "    </tr>\n",
       "  </tbody>\n",
       "</table>\n",
       "</div>"
      ],
      "text/plain": [
       "            x         y       xy1        xy2        xy3        xy4        xy5  \\\n",
       "793  2.737011 -0.671889  7.491232  -1.838967   0.451434  20.503588  -5.033273   \n",
       "914  1.222023  4.654728  1.493339   5.688182  21.666488   1.824894   6.951086   \n",
       "496  2.820314  2.429570  7.954169   6.852148   5.902808  22.433251  19.325207   \n",
       "758  0.966796  4.313561  0.934695   4.170335  18.606812   0.903660   4.031865   \n",
       "533  2.468008  4.190747  6.091065  10.342799  17.562362  15.032799  25.526113   \n",
       "\n",
       "           xy6         xy7        xy8        xy9        xy10        xy11  \\\n",
       "793   1.235581   -0.303313  56.118556 -13.776125    3.381798   -0.830172   \n",
       "914  26.476936  100.851600   2.230061   8.494384   32.355412  123.242925   \n",
       "496  16.647770   14.341283  63.268804  54.503144   46.951934   40.446916   \n",
       "758  17.988997   80.261625   0.873655   3.897992   17.391696   77.596643   \n",
       "533  43.344055   73.599418  37.101073  62.998660  106.973488  181.643975   \n",
       "\n",
       "           xy12  label  \n",
       "793    0.203793      1  \n",
       "914  469.436717      0  \n",
       "496   34.843145      1  \n",
       "758  346.213448      0  \n",
       "533  308.436553      0  "
      ]
     },
     "execution_count": 250,
     "metadata": {},
     "output_type": "execute_result"
    }
   ],
   "source": [
    "train_data.head()"
   ]
  },
  {
   "cell_type": "code",
   "execution_count": 251,
   "metadata": {},
   "outputs": [
    {
     "data": {
      "text/plain": [
       "[1, 3, 5, 9, 15, 25]"
      ]
     },
     "execution_count": 251,
     "metadata": {},
     "output_type": "execute_result"
    }
   ],
   "source": [
    "gen_polynomials_up_to_degree(3, 5, 2)"
   ]
  },
  {
   "cell_type": "markdown",
   "metadata": {},
   "source": [
    "# Nth-degree polynomial features\n",
    "# =============================================================="
   ]
  },
  {
   "cell_type": "code",
   "execution_count": 257,
   "metadata": {},
   "outputs": [
    {
     "data": {
      "image/png": "[encoded data removed]",
      "text/plain": [
       "<Figure size 432x288 with 1 Axes>"
      ]
     },
     "metadata": {
      "needs_background": "light"
     },
     "output_type": "display_data"
    }
   ],
   "source": [
    "n = 1\n",
    "compute_and_show((n + 1) * (n + 2) // 2, lambda y0, y1: gen_polynomials_up_to_degree(y0, y1, n))"
   ]
  },
  {
   "cell_type": "code",
   "execution_count": 258,
   "metadata": {},
   "outputs": [
    {
     "data": {
      "image/png": "[encoded data removed]",
      "text/plain": [
       "<Figure size 432x288 with 1 Axes>"
      ]
     },
     "metadata": {
      "needs_background": "light"
     },
     "output_type": "display_data"
    }
   ],
   "source": [
    "n = 2\n",
    "compute_and_show((n + 1) * (n + 2) // 2, lambda y0, y1: gen_polynomials_up_to_degree(y0, y1, n))"
   ]
  },
  {
   "cell_type": "code",
   "execution_count": 259,
   "metadata": {},
   "outputs": [
    {
     "data": {
      "image/png": "[encoded data removed]",
      "text/plain": [
       "<Figure size 432x288 with 1 Axes>"
      ]
     },
     "metadata": {
      "needs_background": "light"
     },
     "output_type": "display_data"
    }
   ],
   "source": [
    "n = 3\n",
    "compute_and_show((n + 1) * (n + 2) // 2, lambda y0, y1: gen_polynomials_up_to_degree(y0, y1, n))"
   ]
  },
  {
   "cell_type": "code",
   "execution_count": 260,
   "metadata": {},
   "outputs": [
    {
     "data": {
      "image/png": "[encoded data removed]",
      "text/plain": [
       "<Figure size 432x288 with 1 Axes>"
      ]
     },
     "metadata": {
      "needs_background": "light"
     },
     "output_type": "display_data"
    }
   ],
   "source": [
    "n = 4\n",
    "compute_and_show((n + 1) * (n + 2) // 2, lambda y0, y1: gen_polynomials_up_to_degree(y0, y1, n))"
   ]
  },
  {
   "cell_type": "code",
   "execution_count": null,
   "metadata": {},
   "outputs": [],
   "source": []
  }
 ],
 "metadata": {
  "kernelspec": {
   "display_name": "Python 3",
   "language": "python",
   "name": "python3"
  },
  "language_info": {
   "codemirror_mode": {
    "name": "ipython",
    "version": 3
   },
   "file_extension": ".py",
   "mimetype": "text/x-python",
   "name": "python",
   "nbconvert_exporter": "python",
   "pygments_lexer": "ipython3",
   "version": "3.7.3"
  },
  "stem_cell": {
   "cell_type": "raw",
   "metadata": {
    "pycharm": {
     "metadata": false
    }
   },
   "source": ""
  }
 },
 "nbformat": 4,
 "nbformat_minor": 1
}
